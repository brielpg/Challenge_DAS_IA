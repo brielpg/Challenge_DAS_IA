{
  "nbformat": 4,
  "nbformat_minor": 0,
  "metadata": {
    "colab": {
      "provenance": []
    },
    "kernelspec": {
      "name": "python3",
      "display_name": "Python 3"
    },
    "language_info": {
      "name": "python"
    }
  },
  "cells": [
    {
      "cell_type": "code",
      "execution_count": 104,
      "metadata": {
        "id": "Urde5hu5xP1A"
      },
      "outputs": [],
      "source": [
        "# Importar bibliotecas\n",
        "import pandas as pd\n",
        "import numpy as np\n",
        "import matplotlib.pyplot as plt\n",
        "from sklearn.preprocessing import LabelEncoder, StandardScaler\n",
        "from sklearn.model_selection import train_test_split\n",
        "from sklearn.ensemble import RandomForestRegressor\n",
        "from sklearn.metrics import mean_squared_error, r2_score"
      ]
    },
    {
      "cell_type": "markdown",
      "source": [
        "#**Modelo de Regressão**"
      ],
      "metadata": {
        "id": "wsMLDtTe9NMU"
      }
    },
    {
      "cell_type": "code",
      "source": [
        "# Carregar os dados\n",
        "file_name = '/content/relatorios_para_IOT.csv'\n",
        "df = pd.read_csv(file_name, encoding='ISO-8859-1', delimiter=';')"
      ],
      "metadata": {
        "id": "0e5NLbp613NI"
      },
      "execution_count": 105,
      "outputs": []
    },
    {
      "cell_type": "code",
      "source": [
        "# Pré-processamento\n",
        "# Substituir valores de 'urgencia' por números: Baixa=1, Média=2, Alta=3\n",
        "# Transforma a variável \"Comorbidades\" (onde 'nenhuma' = 0, outros tipos = 1)\n",
        "df['Urgencia'] = df['Urgencia'].map({'Baixa': 1, 'Média': 2, 'Alta': 3})\n",
        "df['Comorbidades'] = df['Comorbidades'].apply(lambda x: 1 if x != 'Nenhuma' else 0)"
      ],
      "metadata": {
        "id": "Vfmu1K8r14an"
      },
      "execution_count": 106,
      "outputs": []
    },
    {
      "cell_type": "code",
      "source": [
        "# Criar uma variável de necessidade de consulta urgente\n",
        "# A ponderação dos fatores pode ser ajustada de acordo com a sua necessidade\n",
        "df['Necessidade_Urgente'] = (\n",
        "    df['Idade'] * 1 +\n",
        "    df['Gravidade do Caso'] * 2 +\n",
        "    df['Urgencia'] * 1 +\n",
        "    df['Comorbidades'] * 2 +\n",
        "    df['Numero de Consultas Anteriores'] * 0.5  # Novo fator: histórico de consultas\n",
        ")"
      ],
      "metadata": {
        "id": "WF18F7aN18tk"
      },
      "execution_count": 107,
      "outputs": []
    },
    {
      "cell_type": "code",
      "source": [
        "# Selecionar variáveis\n",
        "X = df[['Idade', 'Gravidade do Caso', 'Comorbidades', 'Numero de Consultas Anteriores']]\n",
        "y = df['Necessidade_Urgente']"
      ],
      "metadata": {
        "id": "GHtuNz2Z2GKQ"
      },
      "execution_count": 108,
      "outputs": []
    },
    {
      "cell_type": "code",
      "source": [
        "# Dividindo os dados em treino e teste\n",
        "X_train, X_test, y_train, y_test = train_test_split(X, y, test_size=0.2, random_state=42)\n"
      ],
      "metadata": {
        "id": "cjTlxELS2G3-"
      },
      "execution_count": 109,
      "outputs": []
    },
    {
      "cell_type": "code",
      "source": [
        "# Treinando o modelo de Random Forest para regressão\n",
        "# Previsão nos dados de teste\n",
        "model = RandomForestRegressor(random_state=42)\n",
        "model.fit(X_train, y_train)\n",
        "y_pred = model.predict(X_test)"
      ],
      "metadata": {
        "id": "0GMj67j92J1E"
      },
      "execution_count": 110,
      "outputs": []
    },
    {
      "cell_type": "code",
      "source": [
        "# Avaliação do modelo com métricas de regressão\n",
        "print(\"🔍 Métricas de Regressão:\")\n",
        "print(f\"Erro quadrático médio (MSE): {mean_squared_error(y_test, y_pred):.2f}\")\n",
        "print(f\"Coeficiente de determinação (R²): {r2_score(y_test, y_pred):.2f}\")\n"
      ],
      "metadata": {
        "colab": {
          "base_uri": "https://localhost:8080/"
        },
        "id": "i_cfxnuP2NAr",
        "outputId": "e3f0b6eb-14ae-49c3-9d32-edd635ddf18c"
      },
      "execution_count": 111,
      "outputs": [
        {
          "output_type": "stream",
          "name": "stdout",
          "text": [
            "🔍 Métricas de Regressão:\n",
            "Erro quadrático médio (MSE): 3.09\n",
            "Coeficiente de determinação (R²): 0.97\n"
          ]
        }
      ]
    },
    {
      "cell_type": "code",
      "source": [
        "# Gráfico de dispersão\n",
        "plt.scatter(y_test, y_pred, alpha=0.7)\n",
        "plt.xlabel(\"Valor Real de Necessidade Urgente\")\n",
        "plt.ylabel(\"Valor Predito pelo Modelo\")\n",
        "plt.title(\"Previsão de Necessidade Urgente\")\n",
        "plt.show()"
      ],
      "metadata": {
        "colab": {
          "base_uri": "https://localhost:8080/",
          "height": 472
        },
        "id": "iu6-eOzZ2M_S",
        "outputId": "5781496b-123d-4d60-d64d-a2d9e70eabbd"
      },
      "execution_count": 112,
      "outputs": [
        {
          "output_type": "display_data",
          "data": {
            "text/plain": [
              "<Figure size 640x480 with 1 Axes>"
            ],
            "image/png": "[encoded data removed]"
          },
          "metadata": {}
        }
      ]
    },
    {
      "cell_type": "code",
      "source": [
        "# Relatório interpretativo das predições\n",
        "print(\"\\n📋 Análise dos Pacientes (Amostra):\")\n",
        "for i in range(min(len(y_pred), 10)):\n",
        "    status = \"🔴 Alta Prioridade\" if y_pred[i] > 50 else \"🟡 Média/Baixa\"\n",
        "    print(f\"Paciente {i+1}: Pontuação IA = {y_pred[i]:.2f} → {status}\")\n"
      ],
      "metadata": {
        "colab": {
          "base_uri": "https://localhost:8080/"
        },
        "id": "bjC3e0Tm2M91",
        "outputId": "53fc9988-46e9-4b64-a26b-cefa79ede99f"
      },
      "execution_count": 113,
      "outputs": [
        {
          "output_type": "stream",
          "name": "stdout",
          "text": [
            "\n",
            "📋 Análise dos Pacientes (Amostra):\n",
            "Paciente 1: Pontuação IA = 59.04 → 🔴 Alta Prioridade\n",
            "Paciente 2: Pontuação IA = 35.93 → 🟡 Média/Baixa\n",
            "Paciente 3: Pontuação IA = 31.14 → 🟡 Média/Baixa\n",
            "Paciente 4: Pontuação IA = 36.64 → 🟡 Média/Baixa\n",
            "Paciente 5: Pontuação IA = 48.72 → 🟡 Média/Baixa\n",
            "Paciente 6: Pontuação IA = 52.45 → 🔴 Alta Prioridade\n",
            "Paciente 7: Pontuação IA = 46.88 → 🟡 Média/Baixa\n",
            "Paciente 8: Pontuação IA = 62.25 → 🔴 Alta Prioridade\n",
            "Paciente 9: Pontuação IA = 60.16 → 🔴 Alta Prioridade\n",
            "Paciente 10: Pontuação IA = 58.03 → 🔴 Alta Prioridade\n"
          ]
        }
      ]
    },
    {
      "cell_type": "code",
      "source": [
        "# Top 5 casos mais urgentes\n",
        "top_indices = np.argsort(y_pred)[-5:]\n",
        "top_scores = y_pred[top_indices]\n",
        "\n",
        "plt.barh(range(5), top_scores, color='red')\n",
        "plt.xlabel(\"Pontuação de Necessidade Urgente\")\n",
        "plt.ylabel(\"Paciente (Top 5)\")\n",
        "plt.title(\"Top 5 Casos Mais Urgentes - IA\")\n",
        "plt.grid(True)\n",
        "plt.show()"
      ],
      "metadata": {
        "colab": {
          "base_uri": "https://localhost:8080/",
          "height": 472
        },
        "id": "ilb-k4V02YZn",
        "outputId": "1e3a57e3-f3f5-4434-edd0-9014381a6684"
      },
      "execution_count": 114,
      "outputs": [
        {
          "output_type": "display_data",
          "data": {
            "text/plain": [
              "<Figure size 640x480 with 1 Axes>"
            ],
            "image/png": "[encoded data removed]"
          },
          "metadata": {}
        }
      ]
    },
    {
      "cell_type": "markdown",
      "source": [
        "# **Modelo de Classificação**"
      ],
      "metadata": {
        "id": "ucTGEVbP9hWy"
      }
    },
    {
      "cell_type": "code",
      "source": [
        "from sklearn.ensemble import RandomForestClassifier\n",
        "from sklearn.metrics import classification_report, confusion_matrix\n"
      ],
      "metadata": {
        "id": "wHmzog7k2b8v"
      },
      "execution_count": 115,
      "outputs": []
    },
    {
      "cell_type": "code",
      "source": [
        "# Carregar os dados\n",
        "file_name = '/content/relatorios_para_IOT.csv'\n",
        "df = pd.read_csv(file_name, encoding='ISO-8859-1', delimiter=';')"
      ],
      "metadata": {
        "id": "Rwd0Zg8R2gYJ"
      },
      "execution_count": 116,
      "outputs": []
    },
    {
      "cell_type": "code",
      "source": [
        "# Pré-processamento\n",
        "# Substituir valores de 'urgencia' por números: Baixa=1, Média=2, Alta=3\n",
        "# Transformar 'Comorbidades' em categorias binárias: Nenhuma = 0, Outros = 1\n",
        "df['Urgencia'] = df['Urgencia'].map({'Baixa': 1, 'Média': 2, 'Alta': 3})\n",
        "df['Comorbidades'] = df['Comorbidades'].apply(lambda x: 0 if x == 'Nenhuma' else 1)\n"
      ],
      "metadata": {
        "id": "FfA7DHqZ2mJB"
      },
      "execution_count": 117,
      "outputs": []
    },
    {
      "cell_type": "code",
      "source": [
        "# Função para definir necessidade da consulta com base na idade\n",
        "def necessidade_consulta(idade):\n",
        "    if 15 <= idade <= 49:\n",
        "        return 1  # Necessidade baixa\n",
        "    elif 1 <= idade < 15:\n",
        "        return 2  # Necessidade média\n",
        "    elif idade >= 60:\n",
        "        return 3  # Necessidade alta\n",
        "    else:\n",
        "        return 2  # Caso não se encaixe, você pode definir como 2 (média)\n",
        "\n",
        "# Transformando a coluna Idade com base na função necessidade consulta\n",
        "df['Idade'] = df['Idade'].apply(necessidade_consulta)"
      ],
      "metadata": {
        "id": "z-hflxxo2z_q"
      },
      "execution_count": 118,
      "outputs": []
    },
    {
      "cell_type": "code",
      "source": [
        "# Criar uma variável de prioridade de atendimento\n",
        "# A ponderação dos fatores pode ser ajustada de acordo com a sua necessidade\n",
        "df['Necessidade_Consulta'] = (\n",
        "    df['Idade'] * 1 +\n",
        "    df['Gravidade do Caso'] * 2 +\n",
        "    df['Urgencia'] * 1 +\n",
        "    df['Comorbidades'] * 3 +\n",
        "    df['Numero de Consultas Anteriores'] * 0.5\n",
        ")"
      ],
      "metadata": {
        "id": "yPuNhUuZ24Sv"
      },
      "execution_count": 119,
      "outputs": []
    },
    {
      "cell_type": "code",
      "source": [
        "# Converter score em categoria: 1 = baixa, 2 = média, 3 = alta\n",
        "df['Necessidade_Consulta'] = df['Necessidade_Consulta'].apply(\n",
        "    lambda x: 1 if x <= 8 else (2 if x <= 10 else 3)\n",
        ")"
      ],
      "metadata": {
        "id": "OR-oaIUc25Rr"
      },
      "execution_count": 120,
      "outputs": []
    },
    {
      "cell_type": "code",
      "source": [
        "# Seleção das variáveis\n",
        "# Todas codificadas numericamente\n",
        "# Variável dependente (target)\n",
        "X_forr = df[['Gravidade do Caso', 'Urgencia', 'Comorbidades', 'Idade', 'Numero de Consultas Anteriores']]\n",
        "y_forr = df['Necessidade_Consulta']"
      ],
      "metadata": {
        "id": "KtPgPn3Q29fh"
      },
      "execution_count": 121,
      "outputs": []
    },
    {
      "cell_type": "code",
      "source": [
        "# Dividir os dados em treino e teste\n",
        "X_train_for, X_test_for, y_train_for, y_test_for = train_test_split(X_forr, y_forr, test_size=0.3, random_state=42)\n"
      ],
      "metadata": {
        "id": "66JWYkJc3B2m"
      },
      "execution_count": 122,
      "outputs": []
    },
    {
      "cell_type": "code",
      "source": [
        "# Criar e treinar o modelo (exemplo com RandomForest)\n",
        "# Previsão nos dados de teste\n",
        "model_forr = RandomForestClassifier(random_state=42)\n",
        "model_forr.fit(X_train_for, y_train_for)\n",
        "y_pred_for = model_forr.predict(X_test_for)"
      ],
      "metadata": {
        "id": "HtrNsv5c3Eph"
      },
      "execution_count": 123,
      "outputs": []
    },
    {
      "cell_type": "code",
      "source": [
        "# Avaliar o modelo\n",
        "print(\"Relatório de Classificação:\")\n",
        "print(classification_report(y_test_for, y_pred_for))\n",
        "print(\"📉 Matriz de Confusão:\")\n",
        "print(confusion_matrix(y_test_for, y_pred_for))"
      ],
      "metadata": {
        "colab": {
          "base_uri": "https://localhost:8080/"
        },
        "id": "Ubi71_tU3KJl",
        "outputId": "3bf4ae7d-2e96-426b-eb92-99f32adf1ffe"
      },
      "execution_count": 124,
      "outputs": [
        {
          "output_type": "stream",
          "name": "stdout",
          "text": [
            "Relatório de Classificação:\n",
            "              precision    recall  f1-score   support\n",
            "\n",
            "           1       0.75      1.00      0.86         3\n",
            "           2       0.89      0.80      0.84        10\n",
            "           3       0.91      0.91      0.91        11\n",
            "\n",
            "    accuracy                           0.88        24\n",
            "   macro avg       0.85      0.90      0.87        24\n",
            "weighted avg       0.88      0.88      0.87        24\n",
            "\n",
            "📉 Matriz de Confusão:\n",
            "[[ 3  0  0]\n",
            " [ 1  8  1]\n",
            " [ 0  1 10]]\n"
          ]
        }
      ]
    }
  ]
}